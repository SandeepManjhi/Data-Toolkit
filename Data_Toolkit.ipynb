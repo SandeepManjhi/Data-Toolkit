{
  "nbformat": 4,
  "nbformat_minor": 0,
  "metadata": {
    "colab": {
      "provenance": []
    },
    "kernelspec": {
      "name": "python3",
      "display_name": "Python 3"
    },
    "language_info": {
      "name": "python"
    }
  },
  "cells": [
    {
      "cell_type": "markdown",
      "source": [
        "# DATA TOOLKIT"
      ],
      "metadata": {
        "id": "8EYgLCRMMrCJ"
      }
    },
    {
      "cell_type": "markdown",
      "source": [
        "Q.1 What is NumPy, and why it is widely used in Python?\n",
        "  - NumPy (Numerical Python) is a library for working with arrays and mathematical operations in Python. It provides support for large, multi-dimensional arrays and matrices, and is the foundation of most scientific computing in Python.\n",
        "\n",
        "NumPy is widely used due to its:\n",
        "\n",
        "1. Efficient array operations: NumPy arrays are faster and more memory-efficient than Python lists.\n",
        "2. Vectorized operations: NumPy allows you to perform operations on entire arrays at once.\n",
        "3. Multi-dimensional support: NumPy supports arrays with multiple dimensions.\n",
        "4. Mathematical functions: NumPy provides an extensive range of mathematical functions.\n",
        "5. Interoperability: NumPy integrates well with other popular libraries like Pandas, SciPy, and Matplotlib.\n",
        "\n",
        "Key benefits:\n",
        "\n",
        "1. Faster computation: NumPy's optimized C code and vectorized operations make it faster than Python's built-in data structures.\n",
        "2. Efficient memory use: NumPy arrays use less memory than Python lists.\n",
        "3. Convenient data analysis: NumPy's array operations and mathematical functions make it ideal for data analysis and scientific computing.\n",
        "\n",
        "Common use cases:\n",
        "\n",
        "1. Data analysis and science\n",
        "2. Machine learning and AI\n",
        "3. Scientific computing and simulations\n",
        "4. Data visualization\n",
        "\n",
        "Q.2 How does broadcasting work in NumPy?\n",
        "  - Broadcasting is a powerful feature in NumPy that allows you to perform operations on arrays with different shapes and sizes. It aligns arrays so that they can be operated on element-wise, even if they don't have the same shape.\n",
        "\n",
        "How Broadcasting Works:\n",
        "\n",
        "1. Matching Dimensions: NumPy compares the shapes of the arrays from right to left (i.e., from the last dimension to the first).\n",
        "2. Broadcasting Rules:\n",
        "    - If the dimensions are equal, no broadcasting is needed.\n",
        "    - If one array has a dimension of size 1, it can be broadcasted to match the other array's dimension.\n",
        "    - If one array has fewer dimensions than the other, it is padded with dimensions of size 1 on the left.\n",
        "\n",
        "Example:\n",
        "In this example, arr2 is broadcasted to match the shape of arr1, resulting in:\n",
        "Benefits:\n",
        "\n",
        "1. Concise code: Broadcasting allows you to write concise and efficient code.\n",
        "2. Flexible operations: Broadcasting enables you to perform operations on arrays with different shapes and sizes.\n",
        "\n",
        "Common Use Cases:\n",
        "\n",
        "1. Element-wise operations: Broadcasting is useful for performing element-wise operations on arrays with different shapes.\n",
        "2. Data analysis: Broadcasting is essential in data analysis and scientific computing, where you often need to perform operations on arrays with different shapes.\n",
        "\n",
        "Q.3 What is a Pandas DataFrame?\n",
        "  - A Pandas DataFrame is a two-dimensional data structure used to store and manipulate tabular data, such as spreadsheets or tables. It's similar to an Excel spreadsheet or a table in a relational database.\n",
        "\n",
        "Key Features:\n",
        "\n",
        "1. Tabular data: DataFrames store data in rows and columns, making it easy to access and manipulate.\n",
        "2. Column names: Each column has a unique name, allowing for easy selection and manipulation.\n",
        "3. Index: DataFrames have an index, which provides a label for each row.\n",
        "4. Data types: DataFrames can store various data types, including numeric, string, and datetime.\n",
        "\n",
        "Benefits:\n",
        "\n",
        "1. Efficient data analysis: DataFrames provide fast and efficient data analysis capabilities.\n",
        "2. Data manipulation: DataFrames offer various methods for data manipulation, such as filtering, sorting, and grouping.\n",
        "3. Data merging: DataFrames can be merged and joined with other DataFrames.\n",
        "\n",
        "Common Use Cases:\n",
        "\n",
        "1. Data analysis and science: DataFrames are ideal for data analysis, data science, and business intelligence.\n",
        "2. Data manipulation and cleaning: DataFrames provide tools for data cleaning, transformation, and preprocessing.\n",
        "3. Data visualization: DataFrames can be easily integrated with visualization libraries like Matplotlib and Seaborn.\n",
        "\n",
        "Q.4 Explain the use of the groupby() method in Pandas.\n",
        "  - The groupby() method in Pandas is used to split data into groups based on some criteria, apply a function to each group, and combine the results.\n",
        "\n",
        "How it works:\n",
        "\n",
        "1. Splitting data: The groupby() method splits the data into groups based on one or more columns.\n",
        "2. Applying a function: You can apply various functions to each group, such as aggregation functions (e.g., mean(), sum(), count()).\n",
        "3. Combining results: The results from each group are combined into a new DataFrame.\n",
        "\n",
        "Benefits:\n",
        "\n",
        "1. Data analysis: The groupby() method is useful for data analysis, allowing you to split data into groups and apply functions.\n",
        "2. Aggregation: You can perform various aggregation operations, such as calculating means, sums, and counts.\n",
        "3. Data insights: The groupby() method helps you gain insights into your data by grouping and analyzing it.\n",
        "\n",
        "Common Use Cases:\n",
        "\n",
        "1. Data aggregation: Use groupby() to calculate aggregated values, such as means, sums, and counts.\n",
        "2. Data analysis: Use groupby() to analyze data by grouping it based on certain criteria.\n",
        "3. Data visualization: Use groupby() to prepare data for visualization, such as creating bar charts or histograms.\n",
        "\n",
        "Q.5 Why is Seaborn preferred for statistical visualizations?\n",
        "  - Seaborn is a Python data visualization library built on top of Matplotlib. It's preferred for statistical visualizations due to its:\n",
        "\n",
        "1. High-level interface: Seaborn provides a simple and intuitive interface for creating informative and attractive statistical graphics.\n",
        "2. Integration with Pandas: Seaborn works seamlessly with Pandas DataFrames, making it easy to visualize data.\n",
        "3. Attractive visualizations: Seaborn produces visually appealing plots with a modern aesthetic.\n",
        "4. Statistical graphics: Seaborn offers a range of statistical graphics, including heatmaps, scatterplots, and boxplots.\n",
        "\n",
        "Benefits:\n",
        "\n",
        "1. Easy to use: Seaborn's high-level interface makes it easy to create complex statistical visualizations.\n",
        "2. Informative plots: Seaborn's plots provide valuable insights into data distributions, relationships, and trends.\n",
        "3. Customizable: Seaborn allows for customization of plot appearance and behavior.\n",
        "\n",
        "Common Use Cases:\n",
        "\n",
        "1. Exploratory data analysis: Seaborn is ideal for exploring and understanding data distributions and relationships.\n",
        "2. Statistical analysis: Seaborn's visualizations can help communicate statistical findings and insights.\n",
        "3. Data science: Seaborn is a valuable tool for data scientists, providing insights into data and helping inform decision-making.\n",
        "\n",
        "Q.6 What are the differences between NumPy arrays and Python lists?\n",
        "  - Differences between NumPy Arrays and Python Lists\n",
        "\n",
        "NumPy arrays and Python lists are both data structures used to store collections of elements. However, they have distinct differences:\n",
        "\n",
        "1. Purpose\n",
        "- NumPy arrays: Designed for numerical computations and scientific computing.\n",
        "- Python lists: General-purpose data structures for storing collections of elements.\n",
        "\n",
        "2. Performance\n",
        "- NumPy arrays: Faster and more efficient for numerical computations due to optimized C code and vectorized operations.\n",
        "- Python lists: Slower for numerical computations due to Python's dynamic typing and interpretation.\n",
        "\n",
        "3. Data Type\n",
        "- NumPy arrays: Homogeneous data type (all elements must be of the same type).\n",
        "- Python lists: Heterogeneous data type (elements can be of different types).\n",
        "\n",
        "4. Memory Usage\n",
        "- NumPy arrays: More memory-efficient due to contiguous memory allocation.\n",
        "- Python lists: Less memory-efficient due to dynamic memory allocation.\n",
        "\n",
        "5. Operations\n",
        "- NumPy arrays: Support vectorized operations, making it easy to perform element-wise operations.\n",
        "- Python lists: Require explicit loops or list comprehensions for element-wise operations.\n",
        "\n",
        "6. Dimensions\n",
        "- NumPy arrays: Support multi-dimensional arrays.\n",
        "- Python lists: Can be nested to create multi-dimensional structures, but not as efficient as NumPy arrays.\n",
        "\n",
        "Q.7 What is a heatmap, and when should it be used?\n",
        "  - A heatmap is a graphical representation of data where values are depicted by color. It's a 2D representation of data that uses colors to convey the magnitude of the values.\n",
        "\n",
        "When to Use a Heatmap:\n",
        "\n",
        "1. Visualizing correlations: Heatmaps are useful for visualizing correlation matrices, showing the strength and direction of relationships between variables.\n",
        "2. Displaying density: Heatmaps can display density or frequency of data points in a 2D space.\n",
        "3. Showing patterns: Heatmaps can help identify patterns or trends in data, such as hotspots or clusters.\n",
        "4. Comparing categories: Heatmaps can be used to compare categories or groups across different variables.\n",
        "\n",
        "Q.8 What does the term \"vectorized operation\" mean in NumPy?\n",
        "  - A vectorized operation in NumPy refers to performing operations on entire arrays at once, without the need for explicit loops. This approach leverages optimized C code under the hood, making it much faster than using Python loops.\n",
        "\n",
        "Key Characteristics:\n",
        "\n",
        "1. Element-wise operations: Operations are applied element-wise to the entire array.\n",
        "2. No explicit loops: Vectorized operations eliminate the need for explicit loops, making code more concise and efficient.\n",
        "3. Optimized performance: Vectorized operations are optimized for performance, often using specialized CPU instructions.\n",
        "\n",
        "Benefits:\n",
        "\n",
        "1. Faster execution: Vectorized operations are much faster than using Python loops.\n",
        "2. Concise code: Vectorized operations make code more concise and readable.\n",
        "3. Efficient memory usage: Vectorized operations can reduce memory usage by avoiding the need for intermediate results.\n",
        "\n",
        "Common Vectorized Operations:\n",
        "\n",
        "1. Arithmetic operations: +, -, *, /, etc.\n",
        "2. Comparison operations: ==, !=, >, <, etc.\n",
        "3. Logical operations: &, |, ~, etc.\n",
        "\n",
        "Q.9 How does Matplotlib differ from Plotly?\n",
        "  - Matplotlib vs Plotly\n",
        "\n",
        "Matplotlib and Plotly are two popular data visualization libraries in Python. While both libraries can create a wide range of visualizations, they differ in their approach, features, and use cases.\n",
        "\n",
        "Matplotlib\n",
        "\n",
        "1. Static visualizations: Matplotlib is primarily used for creating static, 2D, and 3D plots.\n",
        "2. Low-level control: Matplotlib provides fine-grained control over plot elements, allowing for customization.\n",
        "3. Maturity: Matplotlib is a mature library with a large user base and extensive documentation.\n",
        "\n",
        "Plotly\n",
        "\n",
        "1. Interactive visualizations: Plotly is known for creating interactive, web-based visualizations that allow users to hover, zoom, and pan.\n",
        "2. High-level interface: Plotly provides a high-level interface for creating complex visualizations with minimal code.\n",
        "3. Integration with web applications: Plotly is well-suited for integrating visualizations into web applications.\n",
        "\n",
        "Key differences:\n",
        "\n",
        "1. Interactivity: Plotly creates interactive visualizations, while Matplotlib creates static plots.\n",
        "2. Ease of use: Plotly's high-level interface makes it easier to create complex visualizations, while Matplotlib requires more code for customization.\n",
        "3. Use cases: Matplotlib is suitable for scientific publishing, academic papers, and static visualizations, while Plotly is ideal for web-based applications, dashboards, and interactive visualizations.\n",
        "\n",
        "When to use each:\n",
        "\n",
        "1. Matplotlib: Use for static visualizations, scientific publishing, and academic papers.\n",
        "2. Plotly: Use for interactive visualizations, web-based applications, and dashboards.\n",
        "\n",
        "Q.10 What is the significance of hierarchical indexing in Pandas?\n",
        "  - Hierarchical indexing, also known as MultiIndexing, is a feature in Pandas that allows you to have multiple levels of indexing in a DataFrame or Series. This enables you to store and manipulate data with complex structures.\n",
        "\n",
        "Significance:\n",
        "\n",
        "1. Handling complex data: Hierarchical indexing helps handle data with multiple categories or dimensions.\n",
        "2. Efficient data selection: You can select data based on specific levels of the index.\n",
        "3. Data analysis: Hierarchical indexing facilitates data analysis by allowing you to perform operations on specific subsets of data.\n",
        "\n",
        "Benefits:\n",
        "\n",
        "1. Flexible data structure: Hierarchical indexing provides a flexible data structure for storing complex data.\n",
        "2. Efficient data manipulation: You can perform operations on specific levels of the index.\n",
        "3. Improved data analysis: Hierarchical indexing enables more precise data analysis.\n",
        "\n",
        "Q.11 What is the role of Seaborn's pairplot() functions?\n",
        "  - Seaborn's pairplot() function is used to create a matrix of pairwise scatterplots and histograms for visualizing relationships between multiple variables in a dataset.\n",
        "\n",
        "Role:\n",
        "\n",
        "1. Visualizing relationships: pairplot() helps visualize relationships between pairs of variables.\n",
        "2. Identifying patterns: It aids in identifying patterns, correlations, and distributions in the data.\n",
        "3. Exploratory data analysis: pairplot() is a valuable tool for exploratory data analysis, allowing you to quickly understand the relationships between variables.\n",
        "\n",
        "Benefits:\n",
        "\n",
        "1. Easy to use: pairplot() provides a simple way to create complex visualizations.\n",
        "2. Informative: The resulting plot matrix provides valuable insights into the data.\n",
        "3. Customizable: You can customize the appearance and behavior of the plot.\n",
        "\n",
        "Q.12 What is the purpose of the describe () function in Pandas?\n",
        "  - The describe() function in Pandas is used to generate descriptive statistics for a DataFrame or Series. It provides a concise summary of the central tendency, dispersion, and shape of the data.\n",
        "\n",
        "Purpose:\n",
        "\n",
        "1. Data summary: describe() generates a summary of the data, including count, mean, standard deviation, min, max, and quartiles.\n",
        "2. Data exploration: It helps explore the data and understand its distribution.\n",
        "3. Data analysis: describe() provides valuable insights into the data, making it easier to perform further analysis.\n",
        "\n",
        "Statistics Provided:\n",
        "\n",
        "1. Count: Number of non-null values.\n",
        "2. Mean: Average value.\n",
        "3. Standard Deviation (std): Measure of dispersion.\n",
        "4. Min: Minimum value.\n",
        "5. 25% (Q1): First quartile.\n",
        "6. 50% (Median): Middle value.\n",
        "7. 75% (Q3): Third quartile.\n",
        "8. Max: Maximum value.\n",
        "\n",
        "Q.13 Why is handling missing data important in Pandas?\n",
        "  - Handling missing data is crucial in Pandas because missing values can significantly impact data analysis and modeling. Missing data can lead to:\n",
        "\n",
        "1. Biased results: Missing values can introduce bias in statistical analysis and machine learning models.\n",
        "2. Inaccurate conclusions: Ignoring missing data can lead to incorrect conclusions.\n",
        "3. Model performance issues: Missing values can affect model performance and accuracy.\n",
        "\n",
        "Why Handle Missing Data?\n",
        "\n",
        "1. Data quality: Handling missing data ensures data quality and accuracy.\n",
        "2. Reliable analysis: It enables reliable statistical analysis and machine learning modeling.\n",
        "3. Informed decisions: By handling missing data, you can make informed decisions based on complete and accurate data.\n",
        "\n",
        "Pandas Tools for Handling Missing Data:\n",
        "\n",
        "1. isnull(): Detects missing values.\n",
        "2. dropna(): Drops rows or columns with missing values.\n",
        "3. fillna(): Fills missing values with specified values.\n",
        "\n",
        "Best Practices:\n",
        "\n",
        "1. Identify missing data: Use isnull() to detect missing values.\n",
        "2. Decide on a strategy: Choose a strategy to handle missing data (e.g., drop, fill, impute).\n",
        "3. Implement the strategy: Use dropna() or fillna() to handle missing data.\n",
        "\n",
        "Q.14 What are the benefits of using Plotly for data visualization?\n",
        "  - Benefits of Using Plotly\n",
        "\n",
        "Plotly is a popular data visualization library that offers several benefits:\n",
        "\n",
        "1. Interactive Visualizations: Plotly creates interactive visualizations that allow users to hover, zoom, and pan.\n",
        "2. Web-Based: Plotly visualizations can be easily shared and embedded in web applications.\n",
        "3. Highly Customizable: Plotly offers a wide range of customization options for plots.\n",
        "4. Support for 3D Plots: Plotly supports creation of 3D plots.\n",
        "5. Large Community: Plotly has a large and active community.\n",
        "\n",
        "Key Advantages:\n",
        "\n",
        "1. Engaging Visualizations: Interactive visualizations engage users and facilitate exploration.\n",
        "2. Easy Sharing: Plotly visualizations can be easily shared and embedded.\n",
        "3. Flexible: Plotly supports various plot types and customization options.\n",
        "\n",
        "Q.15 How does NumPy handle multidimensional arrays?\n",
        "  - NumPy provides support for multidimensional arrays, enabling efficient storage and manipulation of complex data structures.\n",
        "\n",
        "Key Features:\n",
        "\n",
        "1. Multidimensional indexing: NumPy arrays can be indexed using multiple dimensions.\n",
        "2. Shape and size: Arrays have a shape and size attribute, describing their structure.\n",
        "3. Reshaping and transposing: Arrays can be reshaped and transposed to change their structure.\n",
        "\n",
        "Benefits:\n",
        "\n",
        "1. Efficient data storage: NumPy arrays store data in a compact and efficient manner.\n",
        "2. Vectorized operations: NumPy enables vectorized operations on multidimensional arrays.\n",
        "3. Flexible data manipulation: Arrays can be manipulated using various operations, such as slicing, indexing, and reshaping.\n",
        "\n",
        "Common Operations:\n",
        "\n",
        "1. Slicing: Extracting subsets of arrays.\n",
        "2. Indexing: Accessing specific elements.\n",
        "3. Reshaping: Changing the array's shape.\n",
        "4. Transposing: Swapping axes.\n",
        "\n",
        "Q.16 What is the role of Bokeh in data visualization?\n",
        "  - Bokeh is a Python interactive visualization library that provides elegant, concise construction of versatile graphics.\n",
        "\n",
        "Role:\n",
        "\n",
        "1. Interactive visualizations: Bokeh creates interactive plots, dashboards, and data applications.\n",
        "2. Web-based: Bokeh visualizations can be embedded in web applications.\n",
        "3. High-level interface: Bokeh offers a high-level interface for creating complex visualizations.\n",
        "\n",
        "Benefits:\n",
        "\n",
        "1. Interactive exploration: Bokeh enables interactive exploration of data.\n",
        "2. Web-based sharing: Bokeh visualizations can be easily shared and embedded.\n",
        "3. Customizable: Bokeh provides various customization options.\n",
        "\n",
        "Common Use Cases:\n",
        "\n",
        "1. Data exploration: Bokeh is ideal for exploratory data analysis.\n",
        "2. Dashboards: Bokeh is suitable for creating interactive dashboards.\n",
        "3. Presentations: Bokeh visualizations can be used in presentations.\n",
        "\n",
        "Q.17 Explain the difference between apply() and map() in Pandas?\n",
        "  - apply() and map() are two Pandas functions used to transform data, but they serve different purposes:\n",
        "\n",
        "Apply():\n",
        "\n",
        "1. Flexible function application: apply() applies a function to each row or column of a DataFrame.\n",
        "2. Can handle complex operations: apply() can perform complex operations, such as data aggregation or transformation.\n",
        "\n",
        "Map():\n",
        "\n",
        "1. Element-wise mapping: map() applies a function element-wise to a Series, replacing each value with a new value.\n",
        "2. Typically used for simple transformations: map() is often used for simple transformations, such as replacing values or encoding categorical variables.\n",
        "\n",
        "Key differences:\n",
        "\n",
        "1. Scope: apply() operates on rows or columns, while map() operates on individual elements.\n",
        "2. Functionality: apply() is more flexible and can handle complex operations, while map() is designed for simple, element-wise transformations.\n",
        "\n",
        "Q.18 What are some advanced features of NumPy?\n",
        "  - NumPy offers several advanced features that make it a powerful library for numerical computing:\n",
        "\n",
        "1. Vectorized Operations: Perform operations on entire arrays at once.\n",
        "2. Broadcasting: Perform operations on arrays with different shapes and sizes.\n",
        "3. Linear Algebra Functions: Perform matrix operations, such as matrix multiplication and eigenvalue decomposition.\n",
        "4. Random Number Generation: Generate random numbers and arrays.\n",
        "5. Advanced Indexing: Use advanced indexing techniques, such as boolean indexing and fancy indexing.\n",
        "\n",
        "Some Advanced Functions:\n",
        "\n",
        "1. np.linalg: Linear algebra functions, such as inv, det, and eig.\n",
        "2. np.random: Random number generation functions.\n",
        "3. np.where: Conditional function for element-wise operations.\n",
        "\n",
        "Q.19 How does Pandas simplify time series analysis?\n",
        "  - Pandas simplifies time series analysis by providing:\n",
        "\n",
        "1. DateTimeIndex: Efficiently handles date and time data.\n",
        "2. Resampling: Allows for easy resampling of time series data.\n",
        "3. Rolling and Expanding Windows: Enables calculation of moving statistics.\n",
        "4. Time Shifting: Supports time shifting and lagging.\n",
        "\n",
        "Benefits:\n",
        "\n",
        "1. Efficient data handling: Pandas efficiently handles large time series datasets.\n",
        "2. Easy data manipulation: Pandas provides various functions for data manipulation.\n",
        "3. Simplified analysis: Pandas simplifies time series analysis with built-in functions.\n",
        "\n",
        "Q.20 What is the role of a pivot table in Pandas?\n",
        "  - A pivot table in Pandas is a data summarization tool that allows you to rotate and aggregate data from a DataFrame.\n",
        "\n",
        "Role:\n",
        "\n",
        "1. Data summarization: Pivot tables summarize data by grouping and aggregating values.\n",
        "2. Data transformation: Pivot tables transform data from a long format to a wide format.\n",
        "3. Data analysis: Pivot tables facilitate data analysis by providing insights into relationships between variables.\n",
        "\n",
        "Benefits:\n",
        "\n",
        "1. Easy data summarization: Pivot tables simplify data summarization and aggregation.\n",
        "2. Flexible data analysis: Pivot tables enable flexible data analysis and exploration.\n",
        "3. Insightful data visualization: Pivot tables can be used to create insightful data visualizations.\n",
        "\n",
        "Q.21 Why is NumPy's array slicing faster than Python's list slicing?\n",
        "  - NumPy's array slicing is faster than Python's list slicing due to:\n",
        "\n",
        "1. Memory Layout: NumPy arrays store data in a contiguous block of memory, allowing for efficient access and manipulation.\n",
        "2. Vectorized Operations: NumPy operations are vectorized, meaning they operate on entire arrays at once, reducing overhead.\n",
        "3. Native Code: NumPy's core operations are implemented in C, which is faster than Python.\n",
        "\n",
        "Why NumPy is Faster:\n",
        "\n",
        "1. Less Overhead: NumPy arrays have less overhead compared to Python lists.\n",
        "2. Cache Efficiency: NumPy's contiguous memory layout improves cache efficiency.\n",
        "3. Optimized Operations: NumPy's operations are optimized for performance.\n",
        "\n",
        "Q.22 What are some common use cases for Seaborn?\n",
        "  - Common Use Cases for Seaborn\n",
        "\n",
        "Seaborn is a powerful data visualization library built on top of Matplotlib. Some common use cases include:\n",
        "\n",
        "1. Exploratory Data Analysis: Seaborn is ideal for exploring and understanding the distribution of variables.\n",
        "2. Visualizing Relationships: Seaborn's plots, such as scatterplots and pairplots, help visualize relationships between variables.\n",
        "3. Categorical Data Visualization: Seaborn's bar plots, box plots, and violin plots are useful for visualizing categorical data.\n",
        "4. Heatmaps: Seaborn's heatmaps are useful for visualizing correlation matrices and other matrix data.\n",
        "5. Publication-Quality Plots: Seaborn's plots are highly customizable and suitable for publication-quality figures.\n",
        "\n",
        "Some Popular Seaborn Plots:\n",
        "\n",
        "1. sns.scatterplot: Visualize relationships between two variables.\n",
        "2. sns.barplot: Visualize categorical data.\n",
        "3. sns.heatmap: Visualize correlation matrices or other matrix data.\n",
        "4. sns.pairplot: Visualize relationships between multiple variables.\n",
        "5. sns.boxplot: Visualize distribution of categorical data.\n",
        "\n",
        "\n",
        "\n"
      ],
      "metadata": {
        "id": "sC5eg8EOMsmk"
      }
    },
    {
      "cell_type": "code",
      "source": [
        "# Q.1 Create a 2D NumPy array and calculate the sum of each row\n",
        "import numpy as np\n",
        "\n",
        "# Create a 2D NumPy array\n",
        "arr = np.array([[1, 2, 3], [4, 5, 6]])\n",
        "\n",
        "# Calculate the sum of each row\n",
        "row_sums = np.sum(arr, axis=1)\n",
        "print(row_sums)"
      ],
      "metadata": {
        "id": "AzHUwHfhMitm",
        "colab": {
          "base_uri": "https://localhost:8080/"
        },
        "outputId": "ab6fab1a-be7c-42d4-d510-bba62be1045e"
      },
      "execution_count": 1,
      "outputs": [
        {
          "output_type": "stream",
          "name": "stdout",
          "text": [
            "[ 6 15]\n"
          ]
        }
      ]
    },
    {
      "cell_type": "code",
      "execution_count": 2,
      "metadata": {
        "id": "0BzFfXa0MXVK",
        "colab": {
          "base_uri": "https://localhost:8080/"
        },
        "outputId": "99ae1a92-f744-45d9-82fd-d75275c86f78"
      },
      "outputs": [
        {
          "output_type": "stream",
          "name": "stdout",
          "text": [
            "Mean Score: 86.25\n"
          ]
        }
      ],
      "source": [
        "# Q.2 Write a Pandas script to find the mean of a specific column in a DataFrame.\n",
        "import pandas as pd\n",
        "\n",
        "# Create a sample DataFrame\n",
        "data = {'Name': ['John', 'Anna', 'Peter', 'Linda'],\n",
        "        'Age': [28, 24, 35, 32],\n",
        "        'Score': [85, 90, 78, 92]}\n",
        "df = pd.DataFrame(data)\n",
        "\n",
        "# Calculate the mean of the 'Score' column\n",
        "mean_score = df['Score'].mean()\n",
        "print(\"Mean Score:\", mean_score)"
      ]
    },
    {
      "cell_type": "code",
      "source": [
        "# Q.3 Create a scatter plot using Matplotlib.\n",
        "import matplotlib.pyplot as plt\n",
        "\n",
        "# Sample data\n",
        "x = [1, 2, 3, 4, 5]\n",
        "y = [2, 3, 5, 7, 11]\n",
        "\n",
        "# Create a scatter plot\n",
        "plt.scatter(x, y)\n",
        "plt.xlabel('X-axis')\n",
        "plt.ylabel('Y-axis')\n",
        "plt.title('Scatter Plot Example')\n",
        "plt.show()"
      ],
      "metadata": {
        "colab": {
          "base_uri": "https://localhost:8080/",
          "height": 472
        },
        "id": "MycZ0JVExNtD",
        "outputId": "cb119957-9869-4209-f54c-63ad84ac85b6"
      },
      "execution_count": 3,
      "outputs": [
        {
          "output_type": "display_data",
          "data": {
            "text/plain": [
              "<Figure size 640x480 with 1 Axes>"
            ],
            "image/png": "[encoded data removed]"
          },
          "metadata": {}
        }
      ]
    },
    {
      "cell_type": "code",
      "source": [
        "# Q.4 How do you calculate the correlation matrix using Seaborn and visualize it with a heatmap?\n",
        "import seaborn as sns\n",
        "import matplotlib.pyplot as plt\n",
        "import pandas as pd\n",
        "import numpy as np\n",
        "\n",
        "# Create a sample DataFrame\n",
        "data = {'A': np.random.randn(100),\n",
        "        'B': np.random.randn(100),\n",
        "        'C': np.random.randn(100)}\n",
        "df = pd.DataFrame(data)\n",
        "\n",
        "# Calculate the correlation matrix\n",
        "corr = df.corr()\n",
        "\n",
        "# Visualize the correlation matrix with a heatmap\n",
        "plt.figure(figsize=(8, 6))\n",
        "sns.heatmap(corr, annot=True, cmap='coolwarm', linewidths=0.5)\n",
        "plt.title('Correlation Matrix')\n",
        "plt.show()"
      ],
      "metadata": {
        "colab": {
          "base_uri": "https://localhost:8080/",
          "height": 545
        },
        "id": "u8WzvsuoxY_m",
        "outputId": "7ad5bda0-21a4-4ba6-d574-4f355215bcfb"
      },
      "execution_count": 4,
      "outputs": [
        {
          "output_type": "display_data",
          "data": {
            "text/plain": [
              "<Figure size 800x600 with 2 Axes>"
            ],
            "image/png": "[encoded data removed]"
          },
          "metadata": {}
        }
      ]
    },
    {
      "cell_type": "code",
      "source": [
        "# Q.5 Generate a bar plot using Plotly.\n",
        "import plotly.express as px\n",
        "import pandas as pd\n",
        "\n",
        "# Create a sample DataFrame\n",
        "data = {'Category': ['A', 'B', 'C', 'D'],\n",
        "        'Value': [10, 15, 7, 12]}\n",
        "df = pd.DataFrame(data)\n",
        "\n",
        "# Create a bar plot\n",
        "fig = px.bar(df, x='Category', y='Value', title='Bar Plot Example')\n",
        "fig.show()\n"
      ],
      "metadata": {
        "colab": {
          "base_uri": "https://localhost:8080/",
          "height": 542
        },
        "id": "g3m9dZ0GxoGk",
        "outputId": "140f01e0-3063-42e5-a828-a5156a6b2b05"
      },
      "execution_count": 5,
      "outputs": [
        {
          "output_type": "display_data",
          "data": {
            "text/html": [
              "<html>\n",
              "<head><meta charset=\"utf-8\" /></head>\n",
              "<body>\n",
              "    <div>            <script src=\"https://cdnjs.cloudflare.com/ajax/libs/mathjax/2.7.5/MathJax.js?config=TeX-AMS-MML_SVG\"></script><script type=\"text/javascript\">if (window.MathJax && window.MathJax.Hub && window.MathJax.Hub.Config) {window.MathJax.Hub.Config({SVG: {font: \"STIX-Web\"}});}</script>                <script type=\"text/javascript\">window.PlotlyConfig = {MathJaxConfig: 'local'};</script>\n",
              "        <script charset=\"utf-8\" src=\"https://cdn.plot.ly/plotly-2.35.2.min.js\"></script>                <div id=\"b5534d75-1550-41b9-9673-338a87fb8311\" class=\"plotly-graph-div\" style=\"height:525px; width:100%;\"></div>            <script type=\"text/javascript\">                                    window.PLOTLYENV=window.PLOTLYENV || {};                                    if (document.getElementById(\"b5534d75-1550-41b9-9673-338a87fb8311\")) {                    Plotly.newPlot(                        \"b5534d75-1550-41b9-9673-338a87fb8311\",                        [{\"alignmentgroup\":\"True\",\"hovertemplate\":\"Category=%{x}\\u003cbr\\u003eValue=%{y}\\u003cextra\\u003e\\u003c\\u002fextra\\u003e\",\"legendgroup\":\"\",\"marker\":{\"color\":\"#636efa\",\"pattern\":{\"shape\":\"\"}},\"name\":\"\",\"offsetgroup\":\"\",\"orientation\":\"v\",\"showlegend\":false,\"textposition\":\"auto\",\"x\":[\"A\",\"B\",\"C\",\"D\"],\"xaxis\":\"x\",\"y\":[10,15,7,12],\"yaxis\":\"y\",\"type\":\"bar\"}],                        {\"template\":{\"data\":{\"histogram2dcontour\":[{\"type\":\"histogram2dcontour\",\"colorbar\":{\"outlinewidth\":0,\"ticks\":\"\"},\"colorscale\":[[0.0,\"#0d0887\"],[0.1111111111111111,\"#46039f\"],[0.2222222222222222,\"#7201a8\"],[0.3333333333333333,\"#9c179e\"],[0.4444444444444444,\"#bd3786\"],[0.5555555555555556,\"#d8576b\"],[0.6666666666666666,\"#ed7953\"],[0.7777777777777778,\"#fb9f3a\"],[0.8888888888888888,\"#fdca26\"],[1.0,\"#f0f921\"]]}],\"choropleth\":[{\"type\":\"choropleth\",\"colorbar\":{\"outlinewidth\":0,\"ticks\":\"\"}}],\"histogram2d\":[{\"type\":\"histogram2d\",\"colorbar\":{\"outlinewidth\":0,\"ticks\":\"\"},\"colorscale\":[[0.0,\"#0d0887\"],[0.1111111111111111,\"#46039f\"],[0.2222222222222222,\"#7201a8\"],[0.3333333333333333,\"#9c179e\"],[0.4444444444444444,\"#bd3786\"],[0.5555555555555556,\"#d8576b\"],[0.6666666666666666,\"#ed7953\"],[0.7777777777777778,\"#fb9f3a\"],[0.8888888888888888,\"#fdca26\"],[1.0,\"#f0f921\"]]}],\"heatmap\":[{\"type\":\"heatmap\",\"colorbar\":{\"outlinewidth\":0,\"ticks\":\"\"},\"colorscale\":[[0.0,\"#0d0887\"],[0.1111111111111111,\"#46039f\"],[0.2222222222222222,\"#7201a8\"],[0.3333333333333333,\"#9c179e\"],[0.4444444444444444,\"#bd3786\"],[0.5555555555555556,\"#d8576b\"],[0.6666666666666666,\"#ed7953\"],[0.7777777777777778,\"#fb9f3a\"],[0.8888888888888888,\"#fdca26\"],[1.0,\"#f0f921\"]]}],\"heatmapgl\":[{\"type\":\"heatmapgl\",\"colorbar\":{\"outlinewidth\":0,\"ticks\":\"\"},\"colorscale\":[[0.0,\"#0d0887\"],[0.1111111111111111,\"#46039f\"],[0.2222222222222222,\"#7201a8\"],[0.3333333333333333,\"#9c179e\"],[0.4444444444444444,\"#bd3786\"],[0.5555555555555556,\"#d8576b\"],[0.6666666666666666,\"#ed7953\"],[0.7777777777777778,\"#fb9f3a\"],[0.8888888888888888,\"#fdca26\"],[1.0,\"#f0f921\"]]}],\"contourcarpet\":[{\"type\":\"contourcarpet\",\"colorbar\":{\"outlinewidth\":0,\"ticks\":\"\"}}],\"contour\":[{\"type\":\"contour\",\"colorbar\":{\"outlinewidth\":0,\"ticks\":\"\"},\"colorscale\":[[0.0,\"#0d0887\"],[0.1111111111111111,\"#46039f\"],[0.2222222222222222,\"#7201a8\"],[0.3333333333333333,\"#9c179e\"],[0.4444444444444444,\"#bd3786\"],[0.5555555555555556,\"#d8576b\"],[0.6666666666666666,\"#ed7953\"],[0.7777777777777778,\"#fb9f3a\"],[0.8888888888888888,\"#fdca26\"],[1.0,\"#f0f921\"]]}],\"surface\":[{\"type\":\"surface\",\"colorbar\":{\"outlinewidth\":0,\"ticks\":\"\"},\"colorscale\":[[0.0,\"#0d0887\"],[0.1111111111111111,\"#46039f\"],[0.2222222222222222,\"#7201a8\"],[0.3333333333333333,\"#9c179e\"],[0.4444444444444444,\"#bd3786\"],[0.5555555555555556,\"#d8576b\"],[0.6666666666666666,\"#ed7953\"],[0.7777777777777778,\"#fb9f3a\"],[0.8888888888888888,\"#fdca26\"],[1.0,\"#f0f921\"]]}],\"mesh3d\":[{\"type\":\"mesh3d\",\"colorbar\":{\"outlinewidth\":0,\"ticks\":\"\"}}],\"scatter\":[{\"fillpattern\":{\"fillmode\":\"overlay\",\"size\":10,\"solidity\":0.2},\"type\":\"scatter\"}],\"parcoords\":[{\"type\":\"parcoords\",\"line\":{\"colorbar\":{\"outlinewidth\":0,\"ticks\":\"\"}}}],\"scatterpolargl\":[{\"type\":\"scatterpolargl\",\"marker\":{\"colorbar\":{\"outlinewidth\":0,\"ticks\":\"\"}}}],\"bar\":[{\"error_x\":{\"color\":\"#2a3f5f\"},\"error_y\":{\"color\":\"#2a3f5f\"},\"marker\":{\"line\":{\"color\":\"#E5ECF6\",\"width\":0.5},\"pattern\":{\"fillmode\":\"overlay\",\"size\":10,\"solidity\":0.2}},\"type\":\"bar\"}],\"scattergeo\":[{\"type\":\"scattergeo\",\"marker\":{\"colorbar\":{\"outlinewidth\":0,\"ticks\":\"\"}}}],\"scatterpolar\":[{\"type\":\"scatterpolar\",\"marker\":{\"colorbar\":{\"outlinewidth\":0,\"ticks\":\"\"}}}],\"histogram\":[{\"marker\":{\"pattern\":{\"fillmode\":\"overlay\",\"size\":10,\"solidity\":0.2}},\"type\":\"histogram\"}],\"scattergl\":[{\"type\":\"scattergl\",\"marker\":{\"colorbar\":{\"outlinewidth\":0,\"ticks\":\"\"}}}],\"scatter3d\":[{\"type\":\"scatter3d\",\"line\":{\"colorbar\":{\"outlinewidth\":0,\"ticks\":\"\"}},\"marker\":{\"colorbar\":{\"outlinewidth\":0,\"ticks\":\"\"}}}],\"scattermapbox\":[{\"type\":\"scattermapbox\",\"marker\":{\"colorbar\":{\"outlinewidth\":0,\"ticks\":\"\"}}}],\"scatterternary\":[{\"type\":\"scatterternary\",\"marker\":{\"colorbar\":{\"outlinewidth\":0,\"ticks\":\"\"}}}],\"scattercarpet\":[{\"type\":\"scattercarpet\",\"marker\":{\"colorbar\":{\"outlinewidth\":0,\"ticks\":\"\"}}}],\"carpet\":[{\"aaxis\":{\"endlinecolor\":\"#2a3f5f\",\"gridcolor\":\"white\",\"linecolor\":\"white\",\"minorgridcolor\":\"white\",\"startlinecolor\":\"#2a3f5f\"},\"baxis\":{\"endlinecolor\":\"#2a3f5f\",\"gridcolor\":\"white\",\"linecolor\":\"white\",\"minorgridcolor\":\"white\",\"startlinecolor\":\"#2a3f5f\"},\"type\":\"carpet\"}],\"table\":[{\"cells\":{\"fill\":{\"color\":\"#EBF0F8\"},\"line\":{\"color\":\"white\"}},\"header\":{\"fill\":{\"color\":\"#C8D4E3\"},\"line\":{\"color\":\"white\"}},\"type\":\"table\"}],\"barpolar\":[{\"marker\":{\"line\":{\"color\":\"#E5ECF6\",\"width\":0.5},\"pattern\":{\"fillmode\":\"overlay\",\"size\":10,\"solidity\":0.2}},\"type\":\"barpolar\"}],\"pie\":[{\"automargin\":true,\"type\":\"pie\"}]},\"layout\":{\"autotypenumbers\":\"strict\",\"colorway\":[\"#636efa\",\"#EF553B\",\"#00cc96\",\"#ab63fa\",\"#FFA15A\",\"#19d3f3\",\"#FF6692\",\"#B6E880\",\"#FF97FF\",\"#FECB52\"],\"font\":{\"color\":\"#2a3f5f\"},\"hovermode\":\"closest\",\"hoverlabel\":{\"align\":\"left\"},\"paper_bgcolor\":\"white\",\"plot_bgcolor\":\"#E5ECF6\",\"polar\":{\"bgcolor\":\"#E5ECF6\",\"angularaxis\":{\"gridcolor\":\"white\",\"linecolor\":\"white\",\"ticks\":\"\"},\"radialaxis\":{\"gridcolor\":\"white\",\"linecolor\":\"white\",\"ticks\":\"\"}},\"ternary\":{\"bgcolor\":\"#E5ECF6\",\"aaxis\":{\"gridcolor\":\"white\",\"linecolor\":\"white\",\"ticks\":\"\"},\"baxis\":{\"gridcolor\":\"white\",\"linecolor\":\"white\",\"ticks\":\"\"},\"caxis\":{\"gridcolor\":\"white\",\"linecolor\":\"white\",\"ticks\":\"\"}},\"coloraxis\":{\"colorbar\":{\"outlinewidth\":0,\"ticks\":\"\"}},\"colorscale\":{\"sequential\":[[0.0,\"#0d0887\"],[0.1111111111111111,\"#46039f\"],[0.2222222222222222,\"#7201a8\"],[0.3333333333333333,\"#9c179e\"],[0.4444444444444444,\"#bd3786\"],[0.5555555555555556,\"#d8576b\"],[0.6666666666666666,\"#ed7953\"],[0.7777777777777778,\"#fb9f3a\"],[0.8888888888888888,\"#fdca26\"],[1.0,\"#f0f921\"]],\"sequentialminus\":[[0.0,\"#0d0887\"],[0.1111111111111111,\"#46039f\"],[0.2222222222222222,\"#7201a8\"],[0.3333333333333333,\"#9c179e\"],[0.4444444444444444,\"#bd3786\"],[0.5555555555555556,\"#d8576b\"],[0.6666666666666666,\"#ed7953\"],[0.7777777777777778,\"#fb9f3a\"],[0.8888888888888888,\"#fdca26\"],[1.0,\"#f0f921\"]],\"diverging\":[[0,\"#8e0152\"],[0.1,\"#c51b7d\"],[0.2,\"#de77ae\"],[0.3,\"#f1b6da\"],[0.4,\"#fde0ef\"],[0.5,\"#f7f7f7\"],[0.6,\"#e6f5d0\"],[0.7,\"#b8e186\"],[0.8,\"#7fbc41\"],[0.9,\"#4d9221\"],[1,\"#276419\"]]},\"xaxis\":{\"gridcolor\":\"white\",\"linecolor\":\"white\",\"ticks\":\"\",\"title\":{\"standoff\":15},\"zerolinecolor\":\"white\",\"automargin\":true,\"zerolinewidth\":2},\"yaxis\":{\"gridcolor\":\"white\",\"linecolor\":\"white\",\"ticks\":\"\",\"title\":{\"standoff\":15},\"zerolinecolor\":\"white\",\"automargin\":true,\"zerolinewidth\":2},\"scene\":{\"xaxis\":{\"backgroundcolor\":\"#E5ECF6\",\"gridcolor\":\"white\",\"linecolor\":\"white\",\"showbackground\":true,\"ticks\":\"\",\"zerolinecolor\":\"white\",\"gridwidth\":2},\"yaxis\":{\"backgroundcolor\":\"#E5ECF6\",\"gridcolor\":\"white\",\"linecolor\":\"white\",\"showbackground\":true,\"ticks\":\"\",\"zerolinecolor\":\"white\",\"gridwidth\":2},\"zaxis\":{\"backgroundcolor\":\"#E5ECF6\",\"gridcolor\":\"white\",\"linecolor\":\"white\",\"showbackground\":true,\"ticks\":\"\",\"zerolinecolor\":\"white\",\"gridwidth\":2}},\"shapedefaults\":{\"line\":{\"color\":\"#2a3f5f\"}},\"annotationdefaults\":{\"arrowcolor\":\"#2a3f5f\",\"arrowhead\":0,\"arrowwidth\":1},\"geo\":{\"bgcolor\":\"white\",\"landcolor\":\"#E5ECF6\",\"subunitcolor\":\"white\",\"showland\":true,\"showlakes\":true,\"lakecolor\":\"white\"},\"title\":{\"x\":0.05},\"mapbox\":{\"style\":\"light\"}}},\"xaxis\":{\"anchor\":\"y\",\"domain\":[0.0,1.0],\"title\":{\"text\":\"Category\"}},\"yaxis\":{\"anchor\":\"x\",\"domain\":[0.0,1.0],\"title\":{\"text\":\"Value\"}},\"legend\":{\"tracegroupgap\":0},\"title\":{\"text\":\"Bar Plot Example\"},\"barmode\":\"relative\"},                        {\"responsive\": true}                    ).then(function(){\n",
              "                            \n",
              "var gd = document.getElementById('b5534d75-1550-41b9-9673-338a87fb8311');\n",
              "var x = new MutationObserver(function (mutations, observer) {{\n",
              "        var display = window.getComputedStyle(gd).display;\n",
              "        if (!display || display === 'none') {{\n",
              "            console.log([gd, 'removed!']);\n",
              "            Plotly.purge(gd);\n",
              "            observer.disconnect();\n",
              "        }}\n",
              "}});\n",
              "\n",
              "// Listen for the removal of the full notebook cells\n",
              "var notebookContainer = gd.closest('#notebook-container');\n",
              "if (notebookContainer) {{\n",
              "    x.observe(notebookContainer, {childList: true});\n",
              "}}\n",
              "\n",
              "// Listen for the clearing of the current output cell\n",
              "var outputEl = gd.closest('.output');\n",
              "if (outputEl) {{\n",
              "    x.observe(outputEl, {childList: true});\n",
              "}}\n",
              "\n",
              "                        })                };                            </script>        </div>\n",
              "</body>\n",
              "</html>"
            ]
          },
          "metadata": {}
        }
      ]
    },
    {
      "cell_type": "code",
      "source": [
        "# Q.6 Create a DataFrame and add a new column based on an existing column.\n",
        "import pandas as pd\n",
        "\n",
        "# Create a sample DataFrame\n",
        "data = {'Name': ['John', 'Anna', 'Peter', 'Linda'],\n",
        "        'Age': [28, 24, 35, 32]}\n",
        "df = pd.DataFrame(data)\n",
        "\n",
        "# Add a new column 'Category' based on the 'Age' column\n",
        "df['Category'] = df['Age'].apply(lambda x: 'Young' if x < 30 else 'Old')\n",
        "\n",
        "print(df)"
      ],
      "metadata": {
        "colab": {
          "base_uri": "https://localhost:8080/"
        },
        "id": "TqoIkuzGxxSU",
        "outputId": "91d07433-6598-44aa-be43-948021390520"
      },
      "execution_count": 6,
      "outputs": [
        {
          "output_type": "stream",
          "name": "stdout",
          "text": [
            "    Name  Age Category\n",
            "0   John   28    Young\n",
            "1   Anna   24    Young\n",
            "2  Peter   35      Old\n",
            "3  Linda   32      Old\n"
          ]
        }
      ]
    },
    {
      "cell_type": "code",
      "source": [
        "# Q.7 Write a program to perform element-wise multiplication of two NumPy arrays.\n",
        "import numpy as np\n",
        "\n",
        "# Create two NumPy arrays\n",
        "arr1 = np.array([1, 2, 3])\n",
        "arr2 = np.array([4, 5, 6])\n",
        "\n",
        "# Perform element-wise multiplication\n",
        "result = arr1 * arr2\n",
        "\n",
        "print(\"Array 1:\", arr1)\n",
        "print(\"Array 2:\", arr2)\n",
        "print(\"Result:\", result)"
      ],
      "metadata": {
        "colab": {
          "base_uri": "https://localhost:8080/"
        },
        "id": "Vo0DlZ12x_0g",
        "outputId": "1538885d-02f3-40ca-8f7c-d2d363b69652"
      },
      "execution_count": 7,
      "outputs": [
        {
          "output_type": "stream",
          "name": "stdout",
          "text": [
            "Array 1: [1 2 3]\n",
            "Array 2: [4 5 6]\n",
            "Result: [ 4 10 18]\n"
          ]
        }
      ]
    },
    {
      "cell_type": "code",
      "source": [
        "# Q.8 Create a line plot with multiple lines using Matplotlib.\n",
        "import matplotlib.pyplot as plt\n",
        "\n",
        "# Sample data\n",
        "x = [1, 2, 3, 4, 5]\n",
        "y1 = [2, 3, 5, 7, 11]\n",
        "y2 = [3, 5, 7, 11, 13]\n",
        "\n",
        "# Create a line plot with multiple lines\n",
        "plt.plot(x, y1, label='Line 1', marker='o')\n",
        "plt.plot(x, y2, label='Line 2', marker='s')\n",
        "\n",
        "plt.xlabel('X-axis')\n",
        "plt.ylabel('Y-axis')\n",
        "plt.title('Line Plot Example')\n",
        "plt.legend()\n",
        "plt.show()"
      ],
      "metadata": {
        "colab": {
          "base_uri": "https://localhost:8080/",
          "height": 472
        },
        "id": "diO5tbOmyNHi",
        "outputId": "9df1d394-1f49-4b3c-957d-35c2b9b69818"
      },
      "execution_count": 8,
      "outputs": [
        {
          "output_type": "display_data",
          "data": {
            "text/plain": [
              "<Figure size 640x480 with 1 Axes>"
            ],
            "image/png": "[encoded data removed]"
          },
          "metadata": {}
        }
      ]
    },
    {
      "cell_type": "code",
      "source": [
        "# Q.9 Generate a Pandas DataFrame and filter rows where a column value is greater than a threshold.\n",
        "import pandas as pd\n",
        "\n",
        "# Create a sample DataFrame\n",
        "data = {'Name': ['John', 'Anna', 'Peter', 'Linda'],\n",
        "        'Score': [85, 90, 78, 92]}\n",
        "df = pd.DataFrame(data)\n",
        "\n",
        "# Filter rows where 'Score' is greater than 85\n",
        "threshold = 85\n",
        "filtered_df = df[df['Score'] > threshold]\n",
        "\n",
        "print(\"Original DataFrame:\")\n",
        "print(df)\n",
        "print(\"\\nFiltered DataFrame:\")\n",
        "print(filtered_df)\n"
      ],
      "metadata": {
        "colab": {
          "base_uri": "https://localhost:8080/"
        },
        "id": "17KYmnebyYIA",
        "outputId": "0c63af0f-6580-4ded-9bd4-73ca6a1f00ee"
      },
      "execution_count": 9,
      "outputs": [
        {
          "output_type": "stream",
          "name": "stdout",
          "text": [
            "Original DataFrame:\n",
            "    Name  Score\n",
            "0   John     85\n",
            "1   Anna     90\n",
            "2  Peter     78\n",
            "3  Linda     92\n",
            "\n",
            "Filtered DataFrame:\n",
            "    Name  Score\n",
            "1   Anna     90\n",
            "3  Linda     92\n"
          ]
        }
      ]
    },
    {
      "cell_type": "code",
      "source": [
        "# Q.10 Create a histogram using Seaborn to visualize a distribution.\n",
        "import seaborn as sns\n",
        "import matplotlib.pyplot as plt\n",
        "import numpy as np\n",
        "\n",
        "# Generate sample data\n",
        "data = np.random.randn(1000)\n",
        "\n",
        "# Create a histogram\n",
        "sns.histplot(data, kde=True, bins=30)\n",
        "\n",
        "plt.title('Histogram Example')\n",
        "plt.xlabel('Value')\n",
        "plt.ylabel('Frequency')\n",
        "plt.show()"
      ],
      "metadata": {
        "colab": {
          "base_uri": "https://localhost:8080/",
          "height": 472
        },
        "id": "R1YxWgM7ygfR",
        "outputId": "e146b22c-23f9-4a42-b386-2bd5dfe0e2e1"
      },
      "execution_count": 10,
      "outputs": [
        {
          "output_type": "display_data",
          "data": {
            "text/plain": [
              "<Figure size 640x480 with 1 Axes>"
            ],
            "image/png": "[encoded data removed]"
          },
          "metadata": {}
        }
      ]
    },
    {
      "cell_type": "code",
      "source": [
        "# Q.11 Perform matrix multiplication using NumPy.\n",
        "import numpy as np\n",
        "\n",
        "# Create two matrices\n",
        "A = np.array([[1, 2], [3, 4]])\n",
        "B = np.array([[5, 6], [7, 8]])\n",
        "\n",
        "# Perform matrix multiplication\n",
        "C = np.dot(A, B)\n",
        "# Alternatively, you can use C = A @ B\n",
        "\n",
        "print(\"Matrix A:\")\n",
        "print(A)\n",
        "print(\"\\nMatrix B:\")\n",
        "print(B)\n",
        "print(\"\\nResult (A x B):\")\n",
        "print(C)"
      ],
      "metadata": {
        "colab": {
          "base_uri": "https://localhost:8080/"
        },
        "id": "abY7Prtnyv4G",
        "outputId": "c9cf0309-7e4d-45b1-e619-b0bfbfdf846a"
      },
      "execution_count": 11,
      "outputs": [
        {
          "output_type": "stream",
          "name": "stdout",
          "text": [
            "Matrix A:\n",
            "[[1 2]\n",
            " [3 4]]\n",
            "\n",
            "Matrix B:\n",
            "[[5 6]\n",
            " [7 8]]\n",
            "\n",
            "Result (A x B):\n",
            "[[19 22]\n",
            " [43 50]]\n"
          ]
        }
      ]
    },
    {
      "cell_type": "code",
      "source": [
        "# Q.12 Use Pandas to load a CSV file and display its first 5 rows.\n",
        "import pandas as pd\n",
        "\n",
        "# Load the CSV file\n",
        "df = pd.read_csv('filename.csv')\n",
        "\n",
        "# Display the first 5 rows\n",
        "print(df.head(5))"
      ],
      "metadata": {
        "id": "lobXhGLQzTPE"
      },
      "execution_count": null,
      "outputs": []
    },
    {
      "cell_type": "code",
      "source": [
        "# Q.13 Create a 3D scatter plot using Plotly.\n",
        "import plotly.express as px\n",
        "import pandas as pd\n",
        "import numpy as np\n",
        "\n",
        "# Generate sample data\n",
        "np.random.seed(0)\n",
        "x = np.random.randn(100)\n",
        "y = np.random.randn(100)\n",
        "z = np.random.randn(100)\n",
        "\n",
        "# Create a DataFrame\n",
        "df = pd.DataFrame({'x': x, 'y': y, 'z': z})\n",
        "\n",
        "# Create a 3D scatter plot\n",
        "fig = px.scatter_3d(df, x='x', y='y', z='z')\n",
        "fig.update_layout(title='3D Scatter Plot Example')\n",
        "fig.show()"
      ],
      "metadata": {
        "colab": {
          "base_uri": "https://localhost:8080/",
          "height": 542
        },
        "id": "iR53josrzUP7",
        "outputId": "d4be06b5-dd5c-480a-f0a3-2c4321441679"
      },
      "execution_count": 13,
      "outputs": [
        {
          "output_type": "display_data",
          "data": {
            "text/html": [
              "<html>\n",
              "<head><meta charset=\"utf-8\" /></head>\n",
              "<body>\n",
              "    <div>            <script src=\"https://cdnjs.cloudflare.com/ajax/libs/mathjax/2.7.5/MathJax.js?config=TeX-AMS-MML_SVG\"></script><script type=\"text/javascript\">if (window.MathJax && window.MathJax.Hub && window.MathJax.Hub.Config) {window.MathJax.Hub.Config({SVG: {font: \"STIX-Web\"}});}</script>                <script type=\"text/javascript\">window.PlotlyConfig = {MathJaxConfig: 'local'};</script>\n",
              "        <script charset=\"utf-8\" src=\"https://cdn.plot.ly/plotly-2.35.2.min.js\"></script>                <div id=\"0a6d6cc3-832e-4a2b-915f-54a719adb45d\" class=\"plotly-graph-div\" style=\"height:525px; width:100%;\"></div>            <script type=\"text/javascript\">                                    window.PLOTLYENV=window.PLOTLYENV || {};                                    if (document.getElementById(\"0a6d6cc3-832e-4a2b-915f-54a719adb45d\")) {                    Plotly.newPlot(                        \"0a6d6cc3-832e-4a2b-915f-54a719adb45d\",                        [{\"hovertemplate\":\"x=%{x}\\u003cbr\\u003ey=%{y}\\u003cbr\\u003ez=%{z}\\u003cextra\\u003e\\u003c\\u002fextra\\u003e\",\"legendgroup\":\"\",\"marker\":{\"color\":\"#636efa\",\"symbol\":\"circle\"},\"mode\":\"markers\",\"name\":\"\",\"scene\":\"scene\",\"showlegend\":false,\"x\":[1.764052345967664,0.4001572083672233,0.9787379841057392,2.240893199201458,1.8675579901499675,-0.977277879876411,0.9500884175255894,-0.1513572082976979,-0.10321885179355784,0.41059850193837233,0.144043571160878,1.454273506962975,0.7610377251469934,0.12167501649282841,0.44386323274542566,0.33367432737426683,1.4940790731576061,-0.20515826376580087,0.31306770165090136,-0.8540957393017248,-2.5529898158340787,0.6536185954403606,0.8644361988595057,-0.7421650204064419,2.2697546239876076,-1.4543656745987648,0.04575851730144607,-0.1871838500258336,1.5327792143584575,1.469358769900285,0.1549474256969163,0.37816251960217356,-0.8877857476301128,-1.980796468223927,-0.3479121493261526,0.15634896910398005,1.2302906807277207,1.2023798487844113,-0.3873268174079523,-0.30230275057533557,-1.0485529650670926,-1.4200179371789752,-1.7062701906250126,1.9507753952317897,-0.5096521817516535,-0.4380743016111864,-1.2527953600499262,0.7774903558319101,-1.6138978475579515,-0.2127402802139687,-0.8954665611936756,0.386902497859262,-0.510805137568873,-1.180632184122412,-0.028182228338654868,0.42833187053041766,0.06651722238316789,0.3024718977397814,-0.6343220936809636,-0.3627411659871381,-0.672460447775951,-0.3595531615405413,-0.813146282044454,-1.7262826023316769,0.17742614225375283,-0.4017809362082619,-1.6301983469660446,0.4627822555257742,-0.9072983643832422,0.05194539579613895,0.7290905621775369,0.12898291075741067,1.1394006845433007,-1.2348258203536526,0.402341641177549,-0.6848100909403132,-0.8707971491818818,-0.5788496647644155,-0.31155253212737266,0.05616534222974544,-1.1651498407833565,0.9008264869541871,0.46566243973045984,-1.5362436862772237,1.4882521937955997,1.8958891760305832,1.1787795711596507,-0.17992483581235091,-1.0707526215105425,1.0544517269311366,-0.40317694697317963,1.2224450703824274,0.2082749780768603,0.9766390364837128,0.3563663971744019,0.7065731681919482,0.010500020720820478,1.7858704939058352,0.12691209270361992,0.40198936344470165],\"y\":[1.8831506970562544,-1.3477590611424464,-1.2704849984857336,0.9693967081580112,-1.17312340511416,1.9436211856492926,-0.41361898075974735,-0.7474548114407578,1.9229420264803847,1.4805147914344243,1.8675589604265699,0.9060446582753853,-0.8612256850547025,1.9100649530990337,-0.2680033709513804,0.8024563957963952,0.947251967773748,-0.1550100930908342,0.6140793703460803,0.9222066715665268,0.37642553115562943,-1.0994007905841945,0.298238174206056,1.3263858966870303,-0.6945678597313655,-0.14963454032767076,-0.43515355172163744,1.8492637284793418,0.6722947570124355,0.40746183624111043,-0.7699160744453164,0.5392491912918173,-0.6743326606573761,0.03183055827435118,-0.635846078378881,0.6764332949464997,0.5765908166149409,-0.20829875557799488,0.3960067126616453,-1.0930615087305058,-1.4912575927056055,0.4393917012645369,0.16667349537252904,0.6350314368921064,2.383144774863942,0.9444794869904138,-0.9128222254441586,1.117016288095853,-1.3159074105115212,-0.461584604814709,-0.06824160532463124,1.7133427216493666,-0.7447548220484399,-0.8264385386590144,-0.0984525244254323,-0.6634782863621074,1.126635922106507,-1.0799315083634233,-1.1474686524111024,-0.43782004474443403,-0.4980324506923049,1.9295320538169858,0.9494208069257608,0.0875512413851909,-1.225435518830168,0.8443629764015471,-1.0002153473895647,-1.5447710967776116,1.1880297923523018,0.3169426119248496,0.920858823780819,0.3187276529430212,0.8568306119026912,-0.6510255933001469,-1.0342428417844647,0.681594518281627,-0.8034096641738411,-0.6895497777502005,-0.45553250351734315,0.01747915902505673,-0.35399391125348395,-1.3749512934180188,-0.6436184028328905,-2.2234031522244266,0.6252314510271875,-1.6020576556067476,-1.1043833394284506,0.052165079260974405,-0.7395629963913133,1.5430145954067358,-1.2928569097234486,0.26705086934918293,-0.0392828182274956,-1.1680934977411974,0.5232766605317537,-0.1715463312222481,0.7717905512136674,0.8235041539637314,2.16323594928069,1.336527949436392],\"z\":[-0.3691818379424436,-0.2393791775759264,1.0996595958871132,0.6552637307225978,0.640131526097592,-1.6169560443108344,-0.024326124398935636,-0.7380309092056887,0.27992459904323824,-0.09815038964295794,0.9101789080925919,0.31721821519130206,0.7863279621089762,-0.46641909673594306,-0.9444462559182504,-0.41004969320254847,-0.017020413861440594,0.3791517355550818,2.259308950690852,-0.04225715166064269,-0.955945000492777,-0.34598177569938643,-0.4635959746460942,0.4814814737734622,-1.5407970144446248,0.06326199420033171,0.1565065379653756,0.23218103620027578,-0.5973160689653627,-0.237921729736007,-1.4240609089825316,-0.49331988336219407,-0.5428614760167177,0.4160500462614255,-1.1561824318219127,0.7811981017099934,1.4944845444913688,-2.0699850250135325,0.42625873077810095,0.6769080350302455,-0.637437025552229,-0.39727181432879766,-0.13288057758695562,-0.2977908794017283,-0.3090129690471222,-1.6760038063299767,1.15233156478312,1.079618592036821,-0.8133642592042029,-1.466424327802514,0.5210648764527586,-0.5757879698130661,0.14195316332077967,-0.3193284171450952,0.6915387510701866,0.6947491436560059,-0.7255973784635843,-1.3833639553950554,-1.582938397335082,0.6103793791072052,-1.188859257784029,-0.5068163542986875,-0.5963140384505081,-0.05256729626954629,-1.936279805846507,0.18877859679382855,0.5238910238342056,0.08842208704466141,-0.3108861716984717,0.09740016626878341,0.3990463456401302,-2.77259275642665,1.9559123082506942,0.39009332268792646,-0.65240858238702,-0.3909533751876011,0.49374177734918845,-0.11610393903436653,-2.0306844677814944,2.0644928613593194,-0.11054065723247261,1.0201727117157997,-0.6920498477843912,1.5363770542457977,0.28634368889227957,0.6088438344754508,-1.0452533661469547,1.2111452896827009,0.6898181645347884,1.3018462295649984,-0.6280875596415789,-0.4810271184607877,2.303916697683942,-1.0600158227215473,-0.13594970067832082,1.1368913626026953,0.0977249677148556,0.5829536797532936,-0.3994490292628752,0.37005588784751875],\"type\":\"scatter3d\"}],                        {\"template\":{\"data\":{\"histogram2dcontour\":[{\"type\":\"histogram2dcontour\",\"colorbar\":{\"outlinewidth\":0,\"ticks\":\"\"},\"colorscale\":[[0.0,\"#0d0887\"],[0.1111111111111111,\"#46039f\"],[0.2222222222222222,\"#7201a8\"],[0.3333333333333333,\"#9c179e\"],[0.4444444444444444,\"#bd3786\"],[0.5555555555555556,\"#d8576b\"],[0.6666666666666666,\"#ed7953\"],[0.7777777777777778,\"#fb9f3a\"],[0.8888888888888888,\"#fdca26\"],[1.0,\"#f0f921\"]]}],\"choropleth\":[{\"type\":\"choropleth\",\"colorbar\":{\"outlinewidth\":0,\"ticks\":\"\"}}],\"histogram2d\":[{\"type\":\"histogram2d\",\"colorbar\":{\"outlinewidth\":0,\"ticks\":\"\"},\"colorscale\":[[0.0,\"#0d0887\"],[0.1111111111111111,\"#46039f\"],[0.2222222222222222,\"#7201a8\"],[0.3333333333333333,\"#9c179e\"],[0.4444444444444444,\"#bd3786\"],[0.5555555555555556,\"#d8576b\"],[0.6666666666666666,\"#ed7953\"],[0.7777777777777778,\"#fb9f3a\"],[0.8888888888888888,\"#fdca26\"],[1.0,\"#f0f921\"]]}],\"heatmap\":[{\"type\":\"heatmap\",\"colorbar\":{\"outlinewidth\":0,\"ticks\":\"\"},\"colorscale\":[[0.0,\"#0d0887\"],[0.1111111111111111,\"#46039f\"],[0.2222222222222222,\"#7201a8\"],[0.3333333333333333,\"#9c179e\"],[0.4444444444444444,\"#bd3786\"],[0.5555555555555556,\"#d8576b\"],[0.6666666666666666,\"#ed7953\"],[0.7777777777777778,\"#fb9f3a\"],[0.8888888888888888,\"#fdca26\"],[1.0,\"#f0f921\"]]}],\"heatmapgl\":[{\"type\":\"heatmapgl\",\"colorbar\":{\"outlinewidth\":0,\"ticks\":\"\"},\"colorscale\":[[0.0,\"#0d0887\"],[0.1111111111111111,\"#46039f\"],[0.2222222222222222,\"#7201a8\"],[0.3333333333333333,\"#9c179e\"],[0.4444444444444444,\"#bd3786\"],[0.5555555555555556,\"#d8576b\"],[0.6666666666666666,\"#ed7953\"],[0.7777777777777778,\"#fb9f3a\"],[0.8888888888888888,\"#fdca26\"],[1.0,\"#f0f921\"]]}],\"contourcarpet\":[{\"type\":\"contourcarpet\",\"colorbar\":{\"outlinewidth\":0,\"ticks\":\"\"}}],\"contour\":[{\"type\":\"contour\",\"colorbar\":{\"outlinewidth\":0,\"ticks\":\"\"},\"colorscale\":[[0.0,\"#0d0887\"],[0.1111111111111111,\"#46039f\"],[0.2222222222222222,\"#7201a8\"],[0.3333333333333333,\"#9c179e\"],[0.4444444444444444,\"#bd3786\"],[0.5555555555555556,\"#d8576b\"],[0.6666666666666666,\"#ed7953\"],[0.7777777777777778,\"#fb9f3a\"],[0.8888888888888888,\"#fdca26\"],[1.0,\"#f0f921\"]]}],\"surface\":[{\"type\":\"surface\",\"colorbar\":{\"outlinewidth\":0,\"ticks\":\"\"},\"colorscale\":[[0.0,\"#0d0887\"],[0.1111111111111111,\"#46039f\"],[0.2222222222222222,\"#7201a8\"],[0.3333333333333333,\"#9c179e\"],[0.4444444444444444,\"#bd3786\"],[0.5555555555555556,\"#d8576b\"],[0.6666666666666666,\"#ed7953\"],[0.7777777777777778,\"#fb9f3a\"],[0.8888888888888888,\"#fdca26\"],[1.0,\"#f0f921\"]]}],\"mesh3d\":[{\"type\":\"mesh3d\",\"colorbar\":{\"outlinewidth\":0,\"ticks\":\"\"}}],\"scatter\":[{\"fillpattern\":{\"fillmode\":\"overlay\",\"size\":10,\"solidity\":0.2},\"type\":\"scatter\"}],\"parcoords\":[{\"type\":\"parcoords\",\"line\":{\"colorbar\":{\"outlinewidth\":0,\"ticks\":\"\"}}}],\"scatterpolargl\":[{\"type\":\"scatterpolargl\",\"marker\":{\"colorbar\":{\"outlinewidth\":0,\"ticks\":\"\"}}}],\"bar\":[{\"error_x\":{\"color\":\"#2a3f5f\"},\"error_y\":{\"color\":\"#2a3f5f\"},\"marker\":{\"line\":{\"color\":\"#E5ECF6\",\"width\":0.5},\"pattern\":{\"fillmode\":\"overlay\",\"size\":10,\"solidity\":0.2}},\"type\":\"bar\"}],\"scattergeo\":[{\"type\":\"scattergeo\",\"marker\":{\"colorbar\":{\"outlinewidth\":0,\"ticks\":\"\"}}}],\"scatterpolar\":[{\"type\":\"scatterpolar\",\"marker\":{\"colorbar\":{\"outlinewidth\":0,\"ticks\":\"\"}}}],\"histogram\":[{\"marker\":{\"pattern\":{\"fillmode\":\"overlay\",\"size\":10,\"solidity\":0.2}},\"type\":\"histogram\"}],\"scattergl\":[{\"type\":\"scattergl\",\"marker\":{\"colorbar\":{\"outlinewidth\":0,\"ticks\":\"\"}}}],\"scatter3d\":[{\"type\":\"scatter3d\",\"line\":{\"colorbar\":{\"outlinewidth\":0,\"ticks\":\"\"}},\"marker\":{\"colorbar\":{\"outlinewidth\":0,\"ticks\":\"\"}}}],\"scattermapbox\":[{\"type\":\"scattermapbox\",\"marker\":{\"colorbar\":{\"outlinewidth\":0,\"ticks\":\"\"}}}],\"scatterternary\":[{\"type\":\"scatterternary\",\"marker\":{\"colorbar\":{\"outlinewidth\":0,\"ticks\":\"\"}}}],\"scattercarpet\":[{\"type\":\"scattercarpet\",\"marker\":{\"colorbar\":{\"outlinewidth\":0,\"ticks\":\"\"}}}],\"carpet\":[{\"aaxis\":{\"endlinecolor\":\"#2a3f5f\",\"gridcolor\":\"white\",\"linecolor\":\"white\",\"minorgridcolor\":\"white\",\"startlinecolor\":\"#2a3f5f\"},\"baxis\":{\"endlinecolor\":\"#2a3f5f\",\"gridcolor\":\"white\",\"linecolor\":\"white\",\"minorgridcolor\":\"white\",\"startlinecolor\":\"#2a3f5f\"},\"type\":\"carpet\"}],\"table\":[{\"cells\":{\"fill\":{\"color\":\"#EBF0F8\"},\"line\":{\"color\":\"white\"}},\"header\":{\"fill\":{\"color\":\"#C8D4E3\"},\"line\":{\"color\":\"white\"}},\"type\":\"table\"}],\"barpolar\":[{\"marker\":{\"line\":{\"color\":\"#E5ECF6\",\"width\":0.5},\"pattern\":{\"fillmode\":\"overlay\",\"size\":10,\"solidity\":0.2}},\"type\":\"barpolar\"}],\"pie\":[{\"automargin\":true,\"type\":\"pie\"}]},\"layout\":{\"autotypenumbers\":\"strict\",\"colorway\":[\"#636efa\",\"#EF553B\",\"#00cc96\",\"#ab63fa\",\"#FFA15A\",\"#19d3f3\",\"#FF6692\",\"#B6E880\",\"#FF97FF\",\"#FECB52\"],\"font\":{\"color\":\"#2a3f5f\"},\"hovermode\":\"closest\",\"hoverlabel\":{\"align\":\"left\"},\"paper_bgcolor\":\"white\",\"plot_bgcolor\":\"#E5ECF6\",\"polar\":{\"bgcolor\":\"#E5ECF6\",\"angularaxis\":{\"gridcolor\":\"white\",\"linecolor\":\"white\",\"ticks\":\"\"},\"radialaxis\":{\"gridcolor\":\"white\",\"linecolor\":\"white\",\"ticks\":\"\"}},\"ternary\":{\"bgcolor\":\"#E5ECF6\",\"aaxis\":{\"gridcolor\":\"white\",\"linecolor\":\"white\",\"ticks\":\"\"},\"baxis\":{\"gridcolor\":\"white\",\"linecolor\":\"white\",\"ticks\":\"\"},\"caxis\":{\"gridcolor\":\"white\",\"linecolor\":\"white\",\"ticks\":\"\"}},\"coloraxis\":{\"colorbar\":{\"outlinewidth\":0,\"ticks\":\"\"}},\"colorscale\":{\"sequential\":[[0.0,\"#0d0887\"],[0.1111111111111111,\"#46039f\"],[0.2222222222222222,\"#7201a8\"],[0.3333333333333333,\"#9c179e\"],[0.4444444444444444,\"#bd3786\"],[0.5555555555555556,\"#d8576b\"],[0.6666666666666666,\"#ed7953\"],[0.7777777777777778,\"#fb9f3a\"],[0.8888888888888888,\"#fdca26\"],[1.0,\"#f0f921\"]],\"sequentialminus\":[[0.0,\"#0d0887\"],[0.1111111111111111,\"#46039f\"],[0.2222222222222222,\"#7201a8\"],[0.3333333333333333,\"#9c179e\"],[0.4444444444444444,\"#bd3786\"],[0.5555555555555556,\"#d8576b\"],[0.6666666666666666,\"#ed7953\"],[0.7777777777777778,\"#fb9f3a\"],[0.8888888888888888,\"#fdca26\"],[1.0,\"#f0f921\"]],\"diverging\":[[0,\"#8e0152\"],[0.1,\"#c51b7d\"],[0.2,\"#de77ae\"],[0.3,\"#f1b6da\"],[0.4,\"#fde0ef\"],[0.5,\"#f7f7f7\"],[0.6,\"#e6f5d0\"],[0.7,\"#b8e186\"],[0.8,\"#7fbc41\"],[0.9,\"#4d9221\"],[1,\"#276419\"]]},\"xaxis\":{\"gridcolor\":\"white\",\"linecolor\":\"white\",\"ticks\":\"\",\"title\":{\"standoff\":15},\"zerolinecolor\":\"white\",\"automargin\":true,\"zerolinewidth\":2},\"yaxis\":{\"gridcolor\":\"white\",\"linecolor\":\"white\",\"ticks\":\"\",\"title\":{\"standoff\":15},\"zerolinecolor\":\"white\",\"automargin\":true,\"zerolinewidth\":2},\"scene\":{\"xaxis\":{\"backgroundcolor\":\"#E5ECF6\",\"gridcolor\":\"white\",\"linecolor\":\"white\",\"showbackground\":true,\"ticks\":\"\",\"zerolinecolor\":\"white\",\"gridwidth\":2},\"yaxis\":{\"backgroundcolor\":\"#E5ECF6\",\"gridcolor\":\"white\",\"linecolor\":\"white\",\"showbackground\":true,\"ticks\":\"\",\"zerolinecolor\":\"white\",\"gridwidth\":2},\"zaxis\":{\"backgroundcolor\":\"#E5ECF6\",\"gridcolor\":\"white\",\"linecolor\":\"white\",\"showbackground\":true,\"ticks\":\"\",\"zerolinecolor\":\"white\",\"gridwidth\":2}},\"shapedefaults\":{\"line\":{\"color\":\"#2a3f5f\"}},\"annotationdefaults\":{\"arrowcolor\":\"#2a3f5f\",\"arrowhead\":0,\"arrowwidth\":1},\"geo\":{\"bgcolor\":\"white\",\"landcolor\":\"#E5ECF6\",\"subunitcolor\":\"white\",\"showland\":true,\"showlakes\":true,\"lakecolor\":\"white\"},\"title\":{\"x\":0.05},\"mapbox\":{\"style\":\"light\"}}},\"scene\":{\"domain\":{\"x\":[0.0,1.0],\"y\":[0.0,1.0]},\"xaxis\":{\"title\":{\"text\":\"x\"}},\"yaxis\":{\"title\":{\"text\":\"y\"}},\"zaxis\":{\"title\":{\"text\":\"z\"}}},\"legend\":{\"tracegroupgap\":0},\"margin\":{\"t\":60},\"title\":{\"text\":\"3D Scatter Plot Example\"}},                        {\"responsive\": true}                    ).then(function(){\n",
              "                            \n",
              "var gd = document.getElementById('0a6d6cc3-832e-4a2b-915f-54a719adb45d');\n",
              "var x = new MutationObserver(function (mutations, observer) {{\n",
              "        var display = window.getComputedStyle(gd).display;\n",
              "        if (!display || display === 'none') {{\n",
              "            console.log([gd, 'removed!']);\n",
              "            Plotly.purge(gd);\n",
              "            observer.disconnect();\n",
              "        }}\n",
              "}});\n",
              "\n",
              "// Listen for the removal of the full notebook cells\n",
              "var notebookContainer = gd.closest('#notebook-container');\n",
              "if (notebookContainer) {{\n",
              "    x.observe(notebookContainer, {childList: true});\n",
              "}}\n",
              "\n",
              "// Listen for the clearing of the current output cell\n",
              "var outputEl = gd.closest('.output');\n",
              "if (outputEl) {{\n",
              "    x.observe(outputEl, {childList: true});\n",
              "}}\n",
              "\n",
              "                        })                };                            </script>        </div>\n",
              "</body>\n",
              "</html>"
            ]
          },
          "metadata": {}
        }
      ]
    }
  ]
}